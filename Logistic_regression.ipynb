{
 "cells": [
  {
   "cell_type": "code",
   "execution_count": 1,
   "metadata": {},
   "outputs": [],
   "source": [
    "def reading(f_name):\n",
    "\n",
    "    TS = [[],[],[]]\n",
    "    FS = [[],[],[]]\n",
    "    PS = [[],[],[],[]]\n",
    "    \n",
    "    f = open(f_name, 'r')\n",
    "    \n",
    "    for line in f:\n",
    "        if 'Grasp' in line:\n",
    "            g = int(line[6:]) - 1\n",
    "            for i in range(3):\n",
    "                TS[i].append([])\n",
    "                FS[i].append([])\n",
    "                PS[i].append([])\n",
    "            PS[3].append([])\n",
    "        else:\n",
    "            num = int(line[2])\n",
    "            content = line[4:]\n",
    "            if 'TS' in line:\n",
    "                TS[num][g].append(list(eval(content))[2])\n",
    "            if 'FS' in line:\n",
    "                FS[num][g].append(list(eval(content))[2])\n",
    "            if 'PS' in line:\n",
    "                PS[num][g].append(list(eval(content))[2])\n",
    "                \n",
    "    f.close()\n",
    "    return(TS, FS, PS)\n",
    "\n"
   ]
  },
  {
   "cell_type": "code",
   "execution_count": 2,
   "metadata": {},
   "outputs": [],
   "source": [
    "import os\n",
    "\n",
    "path = './Data/data'\n",
    "\n",
    "for root, dirs, files in os.walk(path):\n",
    "    f_ls = files\n"
   ]
  },
  {
   "cell_type": "code",
   "execution_count": 3,
   "metadata": {},
   "outputs": [
    {
     "name": "stdout",
     "output_type": "stream",
     "text": [
      "apple.txt\n",
      "cleanser_bottle.txt\n",
      "cuboid(rigid).txt\n",
      "cuboid(soft).txt\n",
      "cup(rigid).txt\n",
      "cup(soft).txt\n",
      "lemon.txt\n",
      "orange.txt\n",
      "sphere(rigid).txt\n",
      "sphere(soft).txt\n"
     ]
    }
   ],
   "source": [
    "import numpy as np\n",
    "\n",
    "clt = np.empty(len(f_ls) * 10 * 200 * 300).reshape((len(f_ls), 10, 200, 300))\n",
    "root = './Data/data/'\n",
    "i = 0\n",
    "\n",
    "for f_name in f_ls:\n",
    "    path = root + f_name\n",
    "    print(f_name)\n",
    "    \n",
    "    TS, FS, PS = reading(path)\n",
    "    clt[i] = np.vstack((np.array(TS), np.array(FS), np.array(PS)))\n",
    "    i += 1"
   ]
  },
  {
   "cell_type": "code",
   "execution_count": 597,
   "metadata": {},
   "outputs": [],
   "source": [
    "def finger_tip_sensor_handling(ary):\n",
    "    \n",
    "    features = []\n",
    "    \n",
    "    for i in range(3):\n",
    "        features.append(np.min(ary[i]))\n",
    "        \n",
    "    features += ary[:, 20:120].mean(1).tolist()\n",
    "    features += ary[:, 150:250].mean(1).tolist()\n",
    "    features += ary[:, 250:280].mean(1).tolist()\n",
    "        \n",
    "    unique,count = np.unique(np.abs(ary[1]) > 2, return_counts=True)\n",
    "    if len(unique) == 2:\n",
    "        features.append(count[1]/100)\n",
    "    else:\n",
    "        features.append(0)\n",
    "    \n",
    "    return(features)\n",
    "\n",
    "def finger_pulp_sensor_handling(ary):\n",
    "    \n",
    "    features = 0\n",
    "    \n",
    "    mean = ary.mean(1)\n",
    "    for i in range(3):\n",
    "        unique,count = np.unique((ary[i]>mean[i]+3) | (ary[i]<mean[i]-3), return_counts=True)\n",
    "        if len(unique) == 2:\n",
    "            features += (count[1]/100)\n",
    "\n",
    "    return(features)\n",
    "\n",
    "def proximity_sensor_handling(ary):\n",
    "    \n",
    "    features = []\n",
    "    mx = [-2, -2 ,-2]\n",
    "    mx_pos = [50, 50, 50]\n",
    "    mn = [-1, -1, -1]\n",
    "    mn_pos = [0, 0, 0]\n",
    "    mean = [0, 0, 0]\n",
    "    p4_mn = [0]\n",
    "    \n",
    "    for i in range(3):\n",
    "        minm = 0.1\n",
    "        pos = 0\n",
    "        mx[i] = np.max(ary[i, :50])\n",
    "        mx_pos[i] = np.where(ary[i, :50]==mx[i])[0][0]\n",
    "        if mx[i] < 0.0025:\n",
    "            mx[i] = 1\n",
    "        \n",
    "        for j in range(50):\n",
    "            if (ary[i, j] < minm) and (ary[i, j] > 0.0025):\n",
    "                minm = ary[i,j]\n",
    "                pos = j\n",
    "        mn[i] = minm\n",
    "        mn_pos[i] = pos\n",
    "        if (mx_pos[i] < mn_pos[i]) and (mx[i] > mn[i]):\n",
    "            mean[i] = ary[i, mx_pos[i]:mn_pos[i]].mean()\n",
    "    \n",
    "    p4_mn[0] = ary[3, :250].mean()\n",
    "    \n",
    "    return(mn+p4_mn)\n",
    "        \n",
    "        \n",
    "    "
   ]
  },
  {
   "cell_type": "code",
   "execution_count": 599,
   "metadata": {},
   "outputs": [],
   "source": [
    "obj_num = clt.shape[0]\n",
    "grasp_num = clt.shape[2]\n",
    "feature_num = 13 + 1 + 4\n",
    "X = np.empty(obj_num*grasp_num*feature_num).reshape(obj_num*grasp_num, feature_num)\n",
    "Y = np.empty(obj_num*grasp_num)\n",
    "\n",
    "for i in range(obj_num):\n",
    "    for s in range(grasp_num):\n",
    "        tip_sensor_feature = np.array(finger_tip_sensor_handling(clt[i, :3, s, :]))\n",
    "        pulp_sensor_feature = np.array(finger_pulp_sensor_handling(clt[i, 3:6, s, :]))\n",
    "        proximity_sensor_feature = np.array(proximity_sensor_handling(clt[i, 6:, s, :]))\n",
    "        X[i * grasp_num + s] = np.hstack((tip_sensor_feature, pulp_sensor_feature, proximity_sensor_feature))\n",
    "       # X[i * grasp_num + s] = proximity_sensor_feature\n",
    "        Y[i * grasp_num + s] = i\n",
    "    "
   ]
  },
  {
   "cell_type": "code",
   "execution_count": 600,
   "metadata": {},
   "outputs": [
    {
     "name": "stdout",
     "output_type": "stream",
     "text": [
      "0.6925\n"
     ]
    }
   ],
   "source": [
    "import numpy as np\n",
    "from sklearn import linear_model, datasets, preprocessing\n",
    "from sklearn.model_selection import train_test_split\n",
    "\n",
    "X_train, X_test, Y_train, Y_test = train_test_split(X, Y, test_size=0.2, random_state=0)\n",
    "logreg = linear_model.LogisticRegression(C=1, max_iter = 20000)\n",
    "\n",
    "X_train_scaled = preprocessing.scale(X_train)\n",
    "X_test_scaled = preprocessing.scale(X_test)\n",
    "\n",
    "logreg.fit(X_train_scaled, Y_train)\n",
    " \n",
    "\n",
    "prepro = logreg.predict_proba(X_test_scaled)\n",
    "Y_pre = logreg.predict(X_test_scaled)\n",
    "acc = logreg.score(X_test_scaled,Y_test)\n",
    "\n",
    "print(acc)"
   ]
  },
  {
   "cell_type": "code",
   "execution_count": 601,
   "metadata": {},
   "outputs": [
    {
     "name": "stdout",
     "output_type": "stream",
     "text": [
      "Accuracy:\n",
      "apple ### 30 / 46 = 0.6521739130434783\n",
      "cleanser_bottle ### 40 / 42 = 0.9523809523809523\n",
      "cuboid(rigid) ### 17 / 41 = 0.4146341463414634\n",
      "cuboid(soft) ### 27 / 37 = 0.7297297297297297\n",
      "cup(rigid) ### 18 / 34 = 0.5294117647058824\n",
      "cup(soft) ### 30 / 40 = 0.75\n",
      "lemon ### 32 / 44 = 0.7272727272727273\n",
      "orange ### 26 / 34 = 0.7647058823529411\n",
      "sphere(rigid) ### 40 / 44 = 0.9090909090909091\n",
      "sphere(soft) ### 17 / 38 = 0.4473684210526316\n",
      "Overall: 0.6925\n"
     ]
    }
   ],
   "source": [
    "obj = []\n",
    "obj_ = []\n",
    "for i in range(len(f_ls)):\n",
    "    obj.append(0)\n",
    "    obj_.append(0)\n",
    "            \n",
    "for i in range(len(Y_test)):\n",
    "    if Y_test[i] == Y_pre[i]:\n",
    "        obj_[int(Y_test[i])] += 1\n",
    "    obj[int(Y_test[i])] += 1\n",
    "    \n",
    "print('Accuracy:')\n",
    "for i in range(len(f_ls)):\n",
    "    print(f_ls[i][:-4], '###', obj_[i], '/', obj[i], '=', obj_[i]/obj[i])\n",
    "print('Overall:', acc)\n",
    "    \n"
   ]
  },
  {
   "cell_type": "code",
   "execution_count": 602,
   "metadata": {},
   "outputs": [
    {
     "name": "stdout",
     "output_type": "stream",
     "text": [
      "cuboid ### 77 / 78 = 0.9871794871794872\n",
      "cup ### 74 / 74 = 1.0\n",
      "sphere ### 80 / 82 = 0.975609756097561\n"
     ]
    }
   ],
   "source": [
    "import copy\n",
    "\n",
    "obj_ls = copy.deepcopy(f_ls)\n",
    "for i in range(len(obj_ls)):\n",
    "    obj_ls[i] =  obj_ls[i][:-4]\n",
    "obj_ls += ['cuboid', 'cup', 'sphere']\n",
    "\n",
    "obj = []\n",
    "obj_ = []\n",
    "for i in range(len(obj_ls)):\n",
    "    obj.append(0)\n",
    "    obj_.append(0)\n",
    "\n",
    "for i in range(len(Y_test)):\n",
    "    if Y_test[i] in [2,3]:\n",
    "        if Y_pre[i]  in [2,3]:\n",
    "            obj_[10] += 1\n",
    "        obj[10] += 1\n",
    "        \n",
    "    if Y_test[i] in [4,5]:\n",
    "        if Y_pre[i] in [4,5]:\n",
    "            obj_[11] += 1\n",
    "        obj[11] += 1\n",
    "    \n",
    "    if Y_test[i] in [8,9]:\n",
    "        if Y_pre[i] in [8,9]:\n",
    "            obj_[12] += 1\n",
    "        obj[12] += 1\n",
    "    \n",
    "    if Y_test[i] == Y_pre[i]:\n",
    "        obj_[int(Y_test[i])] += 1\n",
    "    obj[int(Y_test[i])] += 1\n",
    "    \n",
    "for i in range(len(f_ls),len(obj_ls)):\n",
    "    print(obj_ls[i], '###', obj_[i], '/', obj[i], '=', obj_[i]/obj[i])\n",
    " \n"
   ]
  },
  {
   "cell_type": "code",
   "execution_count": null,
   "metadata": {},
   "outputs": [],
   "source": []
  }
 ],
 "metadata": {
  "kernelspec": {
   "display_name": "Python 3",
   "language": "python",
   "name": "python3"
  },
  "language_info": {
   "codemirror_mode": {
    "name": "ipython",
    "version": 3
   },
   "file_extension": ".py",
   "mimetype": "text/x-python",
   "name": "python",
   "nbconvert_exporter": "python",
   "pygments_lexer": "ipython3",
   "version": "3.7.4"
  }
 },
 "nbformat": 4,
 "nbformat_minor": 4
}
